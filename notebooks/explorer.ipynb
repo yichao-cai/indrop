{
 "cells": [
  {
   "cell_type": "code",
   "execution_count": 2,
   "metadata": {},
   "outputs": [
    {
     "name": "stdout",
     "output_type": "stream",
     "text": [
      "/home/yichaocai/work/indrop\n"
     ]
    }
   ],
   "source": [
    "import os\n",
    "import pandas as pd\n",
    "import numpy as np\n",
    "import seaborn as sns\n",
    "import matplotlib \n",
    "import matplotlib.pyplot as plt\n",
    "import gget\n",
    "\n",
    "os.chdir(\"..\")\n",
    "print(os.getcwd())"
   ]
  },
  {
   "cell_type": "markdown",
   "metadata": {},
   "source": [
    "### Inspect dropest outputs"
   ]
  },
  {
   "cell_type": "code",
   "execution_count": 3,
   "metadata": {},
   "outputs": [
    {
     "name": "stdout",
     "output_type": "stream",
     "text": [
      "--- reading sample: test\n",
      "cell num: 251; gene num: 16770\n",
      "Matrix row, col, and nonZeroEntry: 16770, 251, 116892\n",
      "--- gene, cell, count matrix dimension check passed.\n"
     ]
    }
   ],
   "source": [
    "sample = \"test\"\n",
    "print(f\"--- reading sample: {sample}\")\n",
    "cell_path = f\"./output_v1_2/Estimated_counts/{sample}.est.cells.tsv\"\n",
    "gene_path = f\"./output_v1_2/Estimated_counts/{sample}.est.genes.tsv\"\n",
    "mtx_path = f\"./output_v1_2/Estimated_counts/{sample}.est.mtx\"\n",
    "rds_path = f\"./output_v1_2/Estimated_counts/{sample}.est.rds\"\n",
    "\n",
    "df_cell = pd.read_table(cell_path, names=['cell'])\n",
    "df_gene = pd.read_table(gene_path, names=['gene'])\n",
    "print(f\"cell num: {df_cell.shape[0]}; gene num: {df_gene.shape[0]}\")\n",
    "\n",
    "with open(mtx_path, 'r') as mtx:\n",
    "    for i, l in enumerate(mtx):\n",
    "        if(i==1):\n",
    "            # print(l)\n",
    "            mtx_row, mtx_col, mtx_nonZero = [int(_) for _ in l.strip().split(\" \")]\n",
    "            break\n",
    "print(f\"Matrix row, col, and nonZeroEntry: {mtx_row}, {mtx_col}, {mtx_nonZero}\")\n",
    "\n",
    "if(df_cell.shape[0] == mtx_col and df_gene.shape[0] == mtx_row):\n",
    "    print(\"--- gene, cell, count matrix dimension check passed.\")\n",
    "    df_mtx = pd.read_table(mtx_path, sep=\" \", skiprows=2, names=[\"row\", \"column\", \"count\"])"
   ]
  },
  {
   "cell_type": "markdown",
   "metadata": {},
   "source": [
    "### Reconstruct gene-cell matrix"
   ]
  },
  {
   "cell_type": "code",
   "execution_count": 4,
   "metadata": {},
   "outputs": [],
   "source": [
    "def reconstructMatrix(df_row, df_col, mtx_path):\n",
    "    with open(mtx_path, 'r') as mtx:\n",
    "        for i, l in enumerate(mtx):\n",
    "            if(i == 0):\n",
    "                continue\n",
    "            elif(i == 1):\n",
    "                # Initialize numpy array.\n",
    "                mtx_row, mtx_col, mtx_nonZero = [int(_) for _ in l.strip().split(\" \")]\n",
    "                array = np.zeros((mtx_row, mtx_col), dtype=int)\n",
    "            else:\n",
    "                # In MatrixMarket format, the row and column are 1-based. Converting to 0-based.\n",
    "                _mtx_row, _mtx_col, _mtx_nonZero = [int(_) for _ in l.strip().split(\" \")]\n",
    "                array[_mtx_row-1][_mtx_col-1] = _mtx_nonZero\n",
    "    df = pd.DataFrame(array, columns = df_col.cell.tolist(), index=df_row.gene.tolist())\n",
    "    return(df, array)\n"
   ]
  },
  {
   "cell_type": "code",
   "execution_count": 5,
   "metadata": {},
   "outputs": [
    {
     "name": "stdout",
     "output_type": "stream",
     "text": [
      "--- Checking max count index\n",
      "ENST00000396895.3 TCATCCTTTTTATCAC\n",
      "Max count gene and cell index check passed.\n"
     ]
    }
   ],
   "source": [
    "df, cnt_array = reconstructMatrix(df_gene, df_cell, mtx_path)\n",
    "# print(np.max(cnt_array))\n",
    "\n",
    "# Check max count index\n",
    "print(\"--- Checking max count index\")\n",
    "max_idx = np.unravel_index(np.argmax(cnt_array, axis=None), cnt_array.shape)\n",
    "max_gene = df_gene.iloc[max_idx[0],].tolist()[0]\n",
    "max_cell = df_cell.iloc[max_idx[1],].tolist()[0]\n",
    "print(max_gene, max_cell)\n",
    "\n",
    "max_idx2 = np.unravel_index(df.values.argmax(), df.shape)\n",
    "tmp = df.iloc[[max_idx2[0]], [max_idx2[1]]]\n",
    "if(tmp.index.tolist()[0]==max_gene and tmp.columns.tolist()[0]==max_cell):\n",
    "    print(\"Max count gene and cell index check passed.\")\n"
   ]
  },
  {
   "cell_type": "markdown",
   "metadata": {},
   "source": [
    "### Explore matrix"
   ]
  },
  {
   "cell_type": "code",
   "execution_count": 6,
   "metadata": {},
   "outputs": [
    {
     "data": {
      "text/html": [
       "<div>\n",
       "<style scoped>\n",
       "    .dataframe tbody tr th:only-of-type {\n",
       "        vertical-align: middle;\n",
       "    }\n",
       "\n",
       "    .dataframe tbody tr th {\n",
       "        vertical-align: top;\n",
       "    }\n",
       "\n",
       "    .dataframe thead th {\n",
       "        text-align: right;\n",
       "    }\n",
       "</style>\n",
       "<table border=\"1\" class=\"dataframe\">\n",
       "  <thead>\n",
       "    <tr style=\"text-align: right;\">\n",
       "      <th></th>\n",
       "      <th>gene</th>\n",
       "      <th>cell</th>\n",
       "      <th>count</th>\n",
       "    </tr>\n",
       "  </thead>\n",
       "  <tbody>\n",
       "    <tr>\n",
       "      <th>3941182</th>\n",
       "      <td>ENST00000396895.3</td>\n",
       "      <td>TCATCCTTTTTATCAC</td>\n",
       "      <td>48</td>\n",
       "    </tr>\n",
       "    <tr>\n",
       "      <th>3957747</th>\n",
       "      <td>ENST00000362079.2</td>\n",
       "      <td>GAGACGATGGCTGGTGCA</td>\n",
       "      <td>47</td>\n",
       "    </tr>\n",
       "    <tr>\n",
       "      <th>4058367</th>\n",
       "      <td>ENST00000362079.2</td>\n",
       "      <td>GACACGGACTCGGGTAGT</td>\n",
       "      <td>44</td>\n",
       "    </tr>\n",
       "    <tr>\n",
       "      <th>3286947</th>\n",
       "      <td>ENST00000362079.2</td>\n",
       "      <td>GATAACCATCGTCCAAAG</td>\n",
       "      <td>42</td>\n",
       "    </tr>\n",
       "    <tr>\n",
       "      <th>1677027</th>\n",
       "      <td>ENST00000362079.2</td>\n",
       "      <td>GATTGGCGTTTTAAGCGT</td>\n",
       "      <td>39</td>\n",
       "    </tr>\n",
       "    <tr>\n",
       "      <th>...</th>\n",
       "      <td>...</td>\n",
       "      <td>...</td>\n",
       "      <td>...</td>\n",
       "    </tr>\n",
       "    <tr>\n",
       "      <th>1480607</th>\n",
       "      <td>ENST00000708561.1</td>\n",
       "      <td>GACGCCTTGAAAGTAATC</td>\n",
       "      <td>0</td>\n",
       "    </tr>\n",
       "    <tr>\n",
       "      <th>1480608</th>\n",
       "      <td>ENST00000456172.5</td>\n",
       "      <td>GACGCCTTGAAAGTAATC</td>\n",
       "      <td>0</td>\n",
       "    </tr>\n",
       "    <tr>\n",
       "      <th>97350</th>\n",
       "      <td>ENST00000480224.1</td>\n",
       "      <td>TGAAACACACGCATACATT</td>\n",
       "      <td>0</td>\n",
       "    </tr>\n",
       "    <tr>\n",
       "      <th>1480610</th>\n",
       "      <td>ENST00000704582.1</td>\n",
       "      <td>GACGCCTTGAAAGTAATC</td>\n",
       "      <td>0</td>\n",
       "    </tr>\n",
       "    <tr>\n",
       "      <th>2104635</th>\n",
       "      <td>ENST00000684378.1</td>\n",
       "      <td>AGCACCACAAGATTGT</td>\n",
       "      <td>0</td>\n",
       "    </tr>\n",
       "  </tbody>\n",
       "</table>\n",
       "<p>4209270 rows × 3 columns</p>\n",
       "</div>"
      ],
      "text/plain": [
       "                      gene                 cell  count\n",
       "3941182  ENST00000396895.3     TCATCCTTTTTATCAC     48\n",
       "3957747  ENST00000362079.2   GAGACGATGGCTGGTGCA     47\n",
       "4058367  ENST00000362079.2   GACACGGACTCGGGTAGT     44\n",
       "3286947  ENST00000362079.2   GATAACCATCGTCCAAAG     42\n",
       "1677027  ENST00000362079.2   GATTGGCGTTTTAAGCGT     39\n",
       "...                    ...                  ...    ...\n",
       "1480607  ENST00000708561.1   GACGCCTTGAAAGTAATC      0\n",
       "1480608  ENST00000456172.5   GACGCCTTGAAAGTAATC      0\n",
       "97350    ENST00000480224.1  TGAAACACACGCATACATT      0\n",
       "1480610  ENST00000704582.1   GACGCCTTGAAAGTAATC      0\n",
       "2104635  ENST00000684378.1     AGCACCACAAGATTGT      0\n",
       "\n",
       "[4209270 rows x 3 columns]"
      ]
     },
     "execution_count": 6,
     "metadata": {},
     "output_type": "execute_result"
    }
   ],
   "source": [
    "# Transform matrix in to long format\n",
    "df_long = df.reset_index(drop=False).melt(id_vars=['index']).rename(columns={'index':'gene', 'variable':'cell', 'value': 'count'})\n",
    "df_long.sort_values(['count'], ascending=False)"
   ]
  },
  {
   "cell_type": "markdown",
   "metadata": {},
   "source": [
    "#### Aggregate per cell"
   ]
  },
  {
   "cell_type": "code",
   "execution_count": 7,
   "metadata": {},
   "outputs": [
    {
     "name": "stderr",
     "output_type": "stream",
     "text": [
      "/home/yichaocai/miniforge3/envs/py3/lib/python3.11/site-packages/seaborn/_oldcore.py:1498: FutureWarning: is_categorical_dtype is deprecated and will be removed in a future version. Use isinstance(dtype, CategoricalDtype) instead\n",
      "  if pd.api.types.is_categorical_dtype(vector):\n",
      "/home/yichaocai/miniforge3/envs/py3/lib/python3.11/site-packages/seaborn/_oldcore.py:1119: FutureWarning: use_inf_as_na option is deprecated and will be removed in a future version. Convert inf values to NaN before operating instead.\n",
      "  with pd.option_context('mode.use_inf_as_na', True):\n"
     ]
    },
    {
     "data": {
      "text/plain": [
       "[<matplotlib.axis.YTick at 0x7f2e60a8bc10>,\n",
       " <matplotlib.axis.YTick at 0x7f2e5e882010>,\n",
       " <matplotlib.axis.YTick at 0x7f2e5f2b55d0>,\n",
       " <matplotlib.axis.YTick at 0x7f2e5f2d3650>,\n",
       " <matplotlib.axis.YTick at 0x7f2e5f2d99d0>,\n",
       " <matplotlib.axis.YTick at 0x7f2e5f2dbc90>,\n",
       " <matplotlib.axis.YTick at 0x7f2e5f2d1d10>,\n",
       " <matplotlib.axis.YTick at 0x7f2e5f2e2850>,\n",
       " <matplotlib.axis.YTick at 0x7f2e5f2e4ad0>,\n",
       " <matplotlib.axis.YTick at 0x7f2e5f2a3d90>,\n",
       " <matplotlib.axis.YTick at 0x7f2e5e8fe0d0>,\n",
       " <matplotlib.axis.YTick at 0x7f2e5e8834d0>,\n",
       " <matplotlib.axis.YTick at 0x7f2e5f2f8c10>,\n",
       " <matplotlib.axis.YTick at 0x7f2e5f2fad90>,\n",
       " <matplotlib.axis.YTick at 0x7f2e5f2e5a50>,\n",
       " <matplotlib.axis.YTick at 0x7f2e5e8fdfd0>,\n",
       " <matplotlib.axis.YTick at 0x7f2e5f2fda10>,\n",
       " <matplotlib.axis.YTick at 0x7f2e5f2ffc50>,\n",
       " <matplotlib.axis.YTick at 0x7f2e5f301e90>,\n",
       " <matplotlib.axis.YTick at 0x7f2e5f303fd0>]"
      ]
     },
     "execution_count": 7,
     "metadata": {},
     "output_type": "execute_result"
    },
    {
     "data": {
      "image/png": "[encoded data removed]",
      "text/plain": [
       "<Figure size 500x500 with 1 Axes>"
      ]
     },
     "metadata": {},
     "output_type": "display_data"
    }
   ],
   "source": [
    "# Cells with most total count across all genes\n",
    "plot_df = (df_long\n",
    " .groupby(['cell'])\n",
    " .agg(total_count=('count', 'sum'), max_count=('count', 'max'))\n",
    " .sort_values(['total_count'], ascending=False)\n",
    " .reset_index()\n",
    ")\n",
    "\n",
    "# The majority of the cells have <1000 transcripts.\n",
    "fig, ax = plt.subplots(figsize=(5,5))\n",
    "sns.histplot(data=plot_df, x=\"total_count\", kde=True, binwidth=50, ax = ax)\n",
    "ax.set_xlabel(\"Total count per cell\")\n",
    "ax.set_ylabel(\"Number of cells\")\n",
    "ax.set_yticks(range(int(ax.get_yticks().max())))"
   ]
  },
  {
   "cell_type": "markdown",
   "metadata": {},
   "source": [
    "#### Aggregate per gene"
   ]
  },
  {
   "cell_type": "code",
   "execution_count": 8,
   "metadata": {},
   "outputs": [
    {
     "name": "stderr",
     "output_type": "stream",
     "text": [
      "/home/yichaocai/miniforge3/envs/py3/lib/python3.11/site-packages/seaborn/_oldcore.py:1498: FutureWarning: is_categorical_dtype is deprecated and will be removed in a future version. Use isinstance(dtype, CategoricalDtype) instead\n",
      "  if pd.api.types.is_categorical_dtype(vector):\n",
      "/home/yichaocai/miniforge3/envs/py3/lib/python3.11/site-packages/seaborn/_oldcore.py:1119: FutureWarning: use_inf_as_na option is deprecated and will be removed in a future version. Convert inf values to NaN before operating instead.\n",
      "  with pd.option_context('mode.use_inf_as_na', True):\n"
     ]
    },
    {
     "data": {
      "text/plain": [
       "Text(0, 0.5, 'Number of genes')"
      ]
     },
     "execution_count": 8,
     "metadata": {},
     "output_type": "execute_result"
    },
    {
     "data": {
      "image/png": "[encoded data removed]",
      "text/plain": [
       "<Figure size 500x500 with 1 Axes>"
      ]
     },
     "metadata": {},
     "output_type": "display_data"
    }
   ],
   "source": [
    "# Gene with total count across all cell\n",
    "plot_df = (df_long\n",
    " .groupby(['gene'])\n",
    " .agg(total_count=('count', 'sum'), max_count=('count', 'max'), min_count=('count', 'min'))\n",
    " .sort_values(['total_count'], ascending=False)\n",
    " .reset_index()\n",
    ")\n",
    "\n",
    "# Long tail of gene quantification.\n",
    "fig, ax = plt.subplots(figsize=(5,5))\n",
    "sns.histplot(data=plot_df, x=\"total_count\", kde=True, bins=50, ax = ax)\n",
    "ax.set_xlabel(\"Total count per gene\")\n",
    "ax.set_ylabel(\"Number of genes\")\n",
    "# ax.set_yticks(range(int(ax.get_yticks().max())))\n"
   ]
  },
  {
   "cell_type": "code",
   "execution_count": 30,
   "metadata": {},
   "outputs": [],
   "source": [
    "def geneGO(df, total_count=500, max_count=10, min_count=0):\n",
    "    '''Input: gene cell matrix in long form.'''\n",
    "    df2 = (df\n",
    "            .groupby(['gene'])\n",
    "            .agg(total_count=('count', 'sum'), max_count=('count', 'max'), min_count=('count', 'min'))\n",
    "            .sort_values(['total_count'], ascending=False)\n",
    "            .reset_index()\n",
    "            )\n",
    "    query = f'total_count >= {total_count} & max_count >= {max_count} & min_count >= {min_count}'\n",
    "    print(f'--- Threshold in filtering genes for GO analysis: {query}')\n",
    "    selected_genes = (df2\n",
    "                      .query(query) \n",
    "                      )\n",
    "    print(f'--- Number of gene after filtering: {selected_genes.shape[0]}')\n",
    "\n",
    "    selected_genes_info = gget.info(selected_genes.gene.values.tolist())\n",
    "    \n",
    "    non_MT_genes = (selected_genes_info\n",
    "                    .query('~ seq_region_name.str.contains(\"_\")') # Filter out genes mapped to scaffold chromosomes\n",
    "                    .query('~ (seq_region_name == \"MT\")') # Filter out MT genes\n",
    "                    .ensembl_id\n",
    "                    .tolist()\n",
    "                    ) \n",
    "    \n",
    "    print(f'--- Non MT genes: {len(non_MT_genes)}')\n",
    "    gget.enrichr(non_MT_genes, ensembl=True, database=\"ontology\", plot=True)\n",
    "\n",
    "    return(non_MT_genes)"
   ]
  },
  {
   "cell_type": "code",
   "execution_count": 31,
   "metadata": {},
   "outputs": [
    {
     "name": "stderr",
     "output_type": "stream",
     "text": [
      "Tue Sep 12 10:34:47 2023 INFO We noticed that you may have passed a version number with your Ensembl ID.\n",
      "Please note that gget info will always return information linked to the latest Ensembl ID version (see 'ensembl_id').\n"
     ]
    },
    {
     "name": "stdout",
     "output_type": "stream",
     "text": [
      "--- Threshold in filtering genes for GO analysis: total_count >= 200 & max_count >= 0 & min_count >= 0\n",
      "--- Number of gene after filtering: 101\n"
     ]
    },
    {
     "name": "stderr",
     "output_type": "stream",
     "text": [
      "Tue Sep 12 10:35:55 2023 WARNING No UniProt entry was found for ID ENST00000679031.\n",
      "Tue Sep 12 10:36:10 2023 WARNING No UniProt entry was found for ID ENST00000709241.\n",
      "Tue Sep 12 10:36:20 2023 WARNING No UniProt entry was found for ID ENST00000474582.\n",
      "Tue Sep 12 10:36:23 2023 WARNING No reviewed UniProt results were found for ID ENST00000697754. Returning all unreviewed results.\n",
      "Tue Sep 12 10:36:50 2023 WARNING No UniProt entry was found for ID ENST00000568952.\n",
      "Tue Sep 12 10:37:06 2023 WARNING No reviewed UniProt results were found for ID ENST00000406022. Returning all unreviewed results.\n",
      "Tue Sep 12 10:37:14 2023 WARNING No reviewed UniProt results were found for ID ENST00000624069. Returning all unreviewed results.\n",
      "Tue Sep 12 10:37:23 2023 WARNING No UniProt entry was found for ID ENST00000633925.\n",
      "Tue Sep 12 10:37:35 2023 WARNING No reviewed UniProt results were found for ID ENST00000221975. Returning all unreviewed results.\n",
      "Tue Sep 12 10:37:38 2023 WARNING No reviewed UniProt results were found for ID ENST00000644684. Returning all unreviewed results.\n",
      "Tue Sep 12 10:37:46 2023 WARNING No reviewed UniProt results were found for ID ENST00000428169. Returning all unreviewed results.\n",
      "Tue Sep 12 10:38:08 2023 WARNING No UniProt entry was found for ID ENST00000479563.\n",
      "Tue Sep 12 10:38:12 2023 WARNING No UniProt entry was found for ID ENST00000504293.\n",
      "Tue Sep 12 10:38:15 2023 WARNING No reviewed UniProt results were found for ID ENST00000273223. Returning all unreviewed results.\n",
      "Tue Sep 12 10:38:22 2023 WARNING No UniProt entry was found for ID ENST00000529163.\n",
      "Tue Sep 12 10:38:36 2023 WARNING No reviewed UniProt results were found for ID ENST00000552292. Returning all unreviewed results.\n",
      "Tue Sep 12 10:38:51 2023 WARNING No reviewed UniProt results were found for ID ENST00000526562. Returning all unreviewed results.\n",
      "Tue Sep 12 10:38:54 2023 WARNING No UniProt entry was found for ID ENST00000627260.\n",
      "Tue Sep 12 10:38:57 2023 WARNING No UniProt entry was found for ID ENST00000584364.\n",
      "Tue Sep 12 10:39:12 2023 WARNING No UniProt entry was found for ID ENST00000709894.\n",
      "Tue Sep 12 10:39:28 2023 WARNING No UniProt entry was found for ID ENST00000417615.\n",
      "Tue Sep 12 10:39:31 2023 WARNING No UniProt entry was found for ID ENST00000565723.\n",
      "Tue Sep 12 10:39:40 2023 WARNING No reviewed UniProt results were found for ID ENST00000599898. Returning all unreviewed results.\n",
      "Tue Sep 12 10:39:43 2023 WARNING No UniProt entry was found for ID ENST00000518938.\n",
      "Tue Sep 12 10:39:52 2023 WARNING No reviewed UniProt results were found for ID ENST00000563270. Returning all unreviewed results.\n",
      "Tue Sep 12 10:40:25 2023 WARNING No reviewed UniProt results were found for ID ENST00000436427. Returning all unreviewed results.\n",
      "Tue Sep 12 10:41:13 2023 WARNING No reviewed UniProt results were found for ID ENST00000355731. Returning all unreviewed results.\n",
      "Tue Sep 12 10:41:19 2023 WARNING No reviewed UniProt results were found for ID ENST00000502905. Returning all unreviewed results.\n",
      "Tue Sep 12 10:41:56 2023 WARNING No UniProt entry was found for ID ENST00000639948.\n",
      "Tue Sep 12 10:41:59 2023 WARNING No reviewed UniProt results were found for ID ENST00000396466. Returning all unreviewed results.\n",
      "Tue Sep 12 10:42:05 2023 WARNING No reviewed UniProt results were found for ID ENST00000420712. Returning all unreviewed results.\n",
      "Tue Sep 12 10:42:27 2023 WARNING No UniProt entry was found for ID ENST00000504562.\n",
      "Tue Sep 12 10:42:30 2023 WARNING No UniProt entry was found for ID ENST00000645540.\n",
      "Tue Sep 12 10:42:41 2023 WARNING No reviewed UniProt results were found for ID ENST00000372079. Returning all unreviewed results.\n",
      "Tue Sep 12 10:42:56 2023 WARNING No UniProt entry was found for ID ENST00000549235.\n",
      "Tue Sep 12 10:43:07 2023 WARNING No reviewed UniProt results were found for ID ENST00000533540. Returning all unreviewed results.\n",
      "Tue Sep 12 10:43:10 2023 WARNING No reviewed UniProt results were found for ID ENST00000620047. Returning all unreviewed results.\n",
      "Tue Sep 12 10:43:22 2023 WARNING No reviewed UniProt results were found for ID ENST00000541679. Returning all unreviewed results.\n",
      "Tue Sep 12 10:43:25 2023 WARNING No UniProt entry was found for ID ENST00000369387.\n",
      "Tue Sep 12 10:43:41 2023 WARNING No UniProt entry was found for ID ENST00000310837.\n",
      "Tue Sep 12 10:43:54 2023 WARNING No reviewed UniProt results were found for ID ENST00000584577. Returning all unreviewed results.\n",
      "Tue Sep 12 10:43:59 2023 INFO Performing Enichr analysis using database GO_Biological_Process_2021. \n",
      "    Please note that there might a more appropriate database for your application. \n",
      "    Go to https://maayanlab.cloud/Enrichr/#libraries for a full list of supported databases.\n",
      "    \n",
      "Tue Sep 12 10:43:59 2023 INFO Getting gene symbols from Ensembl IDs.\n"
     ]
    },
    {
     "name": "stdout",
     "output_type": "stream",
     "text": [
      "--- Non MT genes: 87\n"
     ]
    },
    {
     "name": "stderr",
     "output_type": "stream",
     "text": [
      "Tue Sep 12 10:52:11 2023 INFO Performing Enichr analysis on the following gene symbols: HBG2-201, EEF1A1-223, RPL23-203, H4C3-201, RPS8-205, RPSA-219, RPS11-201, RPS5-201, RPS12-201, FTH1-201, nan, RPS15-209, RPL10-203, HBE1-203, RPL13A-214, H1-2-201, RPS19-201, RPL15-215, RPL41-202, RPL10-205, RPS15A-203, RPL35-201, TUBA1B-202, RPL14-208, RPS23-203, RPL32-201, RPL8-208, RPLP1-202, RANBP1-201, RPLP0-225, RPS17-209, RPL28-207, RPL27A-204, RPL17-219, RPL6-201, FTL-201, RPS14-207, RPL3P4-201, RPL4-209, RPL34-202, RPL18A-204, RPLP0P9-201, RPS8-202, RPL13-211, RPS18-230, RPSA-201, RPS27-205, RPL18-214, CHCHD2-201, YBX1-203, RPS16-201, RPLP1-201, HSP90AA1-201, RPS20-201, RPL27-201, HSP90AB1-203, RPS10-209, RPL23A-201, RACK1-205, FAU-207, HMGB1-205, RPLP2-201, GAPDH-211, RPS27A-201, RPL7-203, RPL37A-202, RPL10A-201, PTMA-202, RPL12-205, RPL37-202, RPS7-209, EEF1A1-201, PRDX1-203, UBA52-209, ATP5MC3-203, FUT8-205, RPL26-213, HSPA8-221, PPIA-210, RPL39-201, RAN-211, H3P6-201, RPS21-201, HNRNPA1-204, EIF1-201, ENO1-201, RPL38-208\n",
      "Tue Sep 12 10:52:13 2023 WARNING No Enrichr results were found for genes ['HBG2-201', 'EEF1A1-223', 'RPL23-203', 'H4C3-201', 'RPS8-205', 'RPSA-219', 'RPS11-201', 'RPS5-201', 'RPS12-201', 'FTH1-201', 'nan', 'RPS15-209', 'RPL10-203', 'HBE1-203', 'RPL13A-214', 'H1-2-201', 'RPS19-201', 'RPL15-215', 'RPL41-202', 'RPL10-205', 'RPS15A-203', 'RPL35-201', 'TUBA1B-202', 'RPL14-208', 'RPS23-203', 'RPL32-201', 'RPL8-208', 'RPLP1-202', 'RANBP1-201', 'RPLP0-225', 'RPS17-209', 'RPL28-207', 'RPL27A-204', 'RPL17-219', 'RPL6-201', 'FTL-201', 'RPS14-207', 'RPL3P4-201', 'RPL4-209', 'RPL34-202', 'RPL18A-204', 'RPLP0P9-201', 'RPS8-202', 'RPL13-211', 'RPS18-230', 'RPSA-201', 'RPS27-205', 'RPL18-214', 'CHCHD2-201', 'YBX1-203', 'RPS16-201', 'RPLP1-201', 'HSP90AA1-201', 'RPS20-201', 'RPL27-201', 'HSP90AB1-203', 'RPS10-209', 'RPL23A-201', 'RACK1-205', 'FAU-207', 'HMGB1-205', 'RPLP2-201', 'GAPDH-211', 'RPS27A-201', 'RPL7-203', 'RPL37A-202', 'RPL10A-201', 'PTMA-202', 'RPL12-205', 'RPL37-202', 'RPS7-209', 'EEF1A1-201', 'PRDX1-203', 'UBA52-209', 'ATP5MC3-203', 'FUT8-205', 'RPL26-213', 'HSPA8-221', 'PPIA-210', 'RPL39-201', 'RAN-211', 'H3P6-201', 'RPS21-201', 'HNRNPA1-204', 'EIF1-201', 'ENO1-201', 'RPL38-208'] and database GO_Biological_Process_2021. \n",
      "If the genes are Ensembl IDs, please set argument 'ensembl=True' (for terminal, add flag: [--ensembl]).\n"
     ]
    },
    {
     "data": {
      "text/plain": [
       "['ENST00000336906.6',\n",
       " 'ENST00000679031.1',\n",
       " 'ENST00000394332.5',\n",
       " 'ENST00000377803.4',\n",
       " 'ENST00000474582.1',\n",
       " 'ENST00000697754.1',\n",
       " 'ENST00000270625.7',\n",
       " 'ENST00000196551.8',\n",
       " 'ENST00000230050.4',\n",
       " 'ENST00000273550.12',\n",
       " 'ENST00000568952.1',\n",
       " 'ENST00000592588.7',\n",
       " 'ENST00000406022.6',\n",
       " 'ENST00000396895.3',\n",
       " 'ENST00000624069.3',\n",
       " 'ENST00000343677.4',\n",
       " 'ENST00000221975.6',\n",
       " 'ENST00000644684.1',\n",
       " 'ENST00000501597.3',\n",
       " 'ENST00000428169.1',\n",
       " 'ENST00000563390.5',\n",
       " 'ENST00000348462.6',\n",
       " 'ENST00000336023.9',\n",
       " 'ENST00000479563.5',\n",
       " 'ENST00000504293.5',\n",
       " 'ENST00000273223.10',\n",
       " 'ENST00000529163.5',\n",
       " 'ENST00000357790.5',\n",
       " 'ENST00000331821.8',\n",
       " 'ENST00000552292.5',\n",
       " 'ENST00000647841.1',\n",
       " 'ENST00000558815.5',\n",
       " 'ENST00000526562.5',\n",
       " 'ENST00000584364.5',\n",
       " 'ENST00000202773.14',\n",
       " 'ENST00000331825.11',\n",
       " 'ENST00000521466.5',\n",
       " 'ENST00000417615.1',\n",
       " 'ENST00000565723.1',\n",
       " 'ENST00000394667.8',\n",
       " 'ENST00000599898.5',\n",
       " 'ENST00000518938.1',\n",
       " 'ENST00000396651.8',\n",
       " 'ENST00000563270.5',\n",
       " 'ENST00000439602.7',\n",
       " 'ENST00000301821.11',\n",
       " 'ENST00000651669.1',\n",
       " 'ENST00000552588.5',\n",
       " 'ENST00000395422.4',\n",
       " 'ENST00000436427.1',\n",
       " 'ENST00000251453.8',\n",
       " 'ENST00000260379.11',\n",
       " 'ENST00000216281.13',\n",
       " 'ENST00000009589.8',\n",
       " 'ENST00000253788.12',\n",
       " 'ENST00000371646.10',\n",
       " 'ENST00000648437.1',\n",
       " 'ENST00000355731.8',\n",
       " 'ENST00000502905.5',\n",
       " 'ENST00000529639.6',\n",
       " 'ENST00000399494.5',\n",
       " 'ENST00000321153.9',\n",
       " 'ENST00000619601.1',\n",
       " 'ENST00000272317.11',\n",
       " 'ENST00000396466.5',\n",
       " 'ENST00000420712.1',\n",
       " 'ENST00000322203.7',\n",
       " 'ENST00000409115.8',\n",
       " 'ENST00000536368.1',\n",
       " 'ENST00000504562.1',\n",
       " 'ENST00000645540.1',\n",
       " 'ENST00000309268.11',\n",
       " 'ENST00000372079.1',\n",
       " 'ENST00000597451.5',\n",
       " 'ENST00000409194.5',\n",
       " 'ENST00000549235.6',\n",
       " 'ENST00000648839.1',\n",
       " 'ENST00000533540.5',\n",
       " 'ENST00000620047.5',\n",
       " 'ENST00000361575.4',\n",
       " 'ENST00000541679.7',\n",
       " 'ENST00000369387.4',\n",
       " 'ENST00000343986.9',\n",
       " 'ENST00000547276.5',\n",
       " 'ENST00000310837.8',\n",
       " 'ENST00000234590.10',\n",
       " 'ENST00000584577.5']"
      ]
     },
     "execution_count": 31,
     "metadata": {},
     "output_type": "execute_result"
    }
   ],
   "source": [
    "geneGO(df_long, 200, 0, 0)"
   ]
  }
 ],
 "metadata": {
  "kernelspec": {
   "display_name": "Python 3",
   "language": "python",
   "name": "python3"
  },
  "language_info": {
   "codemirror_mode": {
    "name": "ipython",
    "version": 3
   },
   "file_extension": ".py",
   "mimetype": "text/x-python",
   "name": "python",
   "nbconvert_exporter": "python",
   "pygments_lexer": "ipython3",
   "version": "3.11.5"
  },
  "orig_nbformat": 4
 },
 "nbformat": 4,
 "nbformat_minor": 2
}
